{
 "cells": [
  {
   "cell_type": "markdown",
   "metadata": {},
   "source": [
    "#VenPy Basic Usage"
   ]
  },
  {
   "cell_type": "markdown",
   "metadata": {},
   "source": [
    "Here we will show the basic usage of VenPy. This short tutorial will cover:\n",
    "\n",
    " 1. Installing the package\n",
    " 2. Loading compiled Vensim models\n",
    " 3. Setting and getting model constants\n",
    " 5. Running models and retrieving results\n",
    " 4. 'Replacing' model components with Python functions\n",
    " 6. Working with subscripted variables\n"
   ]
  },
  {
   "cell_type": "markdown",
   "metadata": {
    "collapsed": true
   },
   "source": [
    "##1. Installing VenPy"
   ]
  },
  {
   "cell_type": "markdown",
   "metadata": {},
   "source": [
    " * VenPy can be installed from source at the project [home page](https://github.com/pbreach/venpy) by first downloading the source files clicking \"Download Zip\", or by cloning the project to your local machine.\n",
    " \n",
    " * After the files have been downloaded they can be extracted. From here, navigate to the project directory on your machine via `$ cd /path/to/directory`. \n",
    " After navigating the the directory we can run the setup script via \n",
    " `$ python setup.py install`\n",
    " * The package will now be installed to your default version of Python which needs to be Windows 32-bit for it to work with Vensim. If your default Python is not Windows 32-bit the command `$ python setup.py` can be modified to point to the 32-bit version by instead using `$ /path/to/python.exe setup.py install`\n",
    " \n",
    " Now you should hopefully be able to: "
   ]
  },
  {
   "cell_type": "code",
   "execution_count": 1,
   "metadata": {
    "collapsed": true
   },
   "outputs": [],
   "source": [
    "import venpy"
   ]
  },
  {
   "cell_type": "markdown",
   "metadata": {},
   "source": [
    "##2. Loading Vensim Models"
   ]
  },
  {
   "cell_type": "markdown",
   "metadata": {},
   "source": [
    "The Vensim DLL allows you to load in *compiled* Vensim models with the .vpm extension. This can be obtained by [publishing](https://www.vensim.com/documentation/index.html?usr19_saving_to_a_binary_file.htm) the Vensim model that needs to be loaded. Here we will be using the `simple.vpm` model in the `examples` directory. "
   ]
  },
  {
   "cell_type": "markdown",
   "metadata": {},
   "source": [
    "![alt text](https://github.com/pbreach/venpy/models/simple.png \"Simple Model Stock & Flow\")"
   ]
  },
  {
   "cell_type": "code",
   "execution_count": 2,
   "metadata": {
    "collapsed": false
   },
   "outputs": [],
   "source": [
    "model = venpy.load('../models/simple.vpm')"
   ]
  },
  {
   "cell_type": "markdown",
   "metadata": {},
   "source": [
    "After the model has been load we can get some information of the names and types of model variables using the `names` method:"
   ]
  },
  {
   "cell_type": "code",
   "execution_count": 3,
   "metadata": {
    "collapsed": false
   },
   "outputs": [
    {
     "data": {
      "text/plain": [
       "{'aux': ['Outflow', 'SAVEPER'],\n",
       " 'constant': ['Characteristic Time',\n",
       "  'FINAL TIME',\n",
       "  'INITIAL TIME',\n",
       "  'TIME STEP'],\n",
       " 'constraint': [''],\n",
       " 'data': [''],\n",
       " 'game': ['Outflow'],\n",
       " 'group': ['.Control', '.simple'],\n",
       " 'init': [''],\n",
       " 'level': ['Stock'],\n",
       " 'lookup': [''],\n",
       " 'sub_constant': [''],\n",
       " 'sub_range': [''],\n",
       " 'test_input': [''],\n",
       " 'time_base': ['Time']}"
      ]
     },
     "execution_count": 3,
     "metadata": {},
     "output_type": "execute_result"
    }
   ],
   "source": [
    "model.names"
   ]
  },
  {
   "cell_type": "markdown",
   "metadata": {},
   "source": [
    "##3. Setting and Getting Model Constants"
   ]
  },
  {
   "cell_type": "markdown",
   "metadata": {},
   "source": [
    "One of the main features associated with using the Vensim DLL is the ability to retrieve and set model constants prior to simulation. This will help to facilitate batch processing of models for various sensitivity analyses.\n",
    "\n",
    "This functionality is incorporated in VenPy through the `__setitem__` and `__getitem__` methods, and can be used as follows:"
   ]
  },
  {
   "cell_type": "code",
   "execution_count": 4,
   "metadata": {
    "collapsed": false
   },
   "outputs": [
    {
     "name": "stdout",
     "output_type": "stream",
     "text": [
      "Characteristic Time is initially 5\n",
      "Characteristic Time is now 20\n"
     ]
    }
   ],
   "source": [
    "current = model['Characteristic Time']\n",
    "print(\"Characteristic Time is initially %d\" % current)\n",
    "\n",
    "model['Characteristic Time'] = 20\n",
    "new = model['Characteristic Time']\n",
    "print(\"Characteristic Time is now %d\" % model['Characteristic Time'])"
   ]
  },
  {
   "cell_type": "markdown",
   "metadata": {},
   "source": [
    "Note that if the Vensim variable is *not* a model constant, and is accessed in any way *outside* of a simulation and error will be thrown."
   ]
  },
  {
   "cell_type": "code",
   "execution_count": 5,
   "metadata": {
    "collapsed": false
   },
   "outputs": [
    {
     "ename": "KeyError",
     "evalue": "\"Cannot get 'level' outside simulation.\"",
     "output_type": "error",
     "traceback": [
      "\u001b[1;31m---------------------------------------------------------------------------\u001b[0m",
      "\u001b[1;31mKeyError\u001b[0m                                  Traceback (most recent call last)",
      "\u001b[1;32m<ipython-input-5-0735995cab10>\u001b[0m in \u001b[0;36m<module>\u001b[1;34m()\u001b[0m\n\u001b[1;32m----> 1\u001b[1;33m \u001b[1;32mprint\u001b[0m \u001b[0mmodel\u001b[0m\u001b[1;33m[\u001b[0m\u001b[1;34m'Stock'\u001b[0m\u001b[1;33m]\u001b[0m\u001b[1;33m\u001b[0m\u001b[0m\n\u001b[0m",
      "\u001b[1;32mC:\\Anaconda32\\lib\\site-packages\\venpy\\venpy.pyc\u001b[0m in \u001b[0;36m__getitem__\u001b[1;34m(self, key)\u001b[0m\n\u001b[0;32m    119\u001b[0m \u001b[1;33m\u001b[0m\u001b[0m\n\u001b[0;32m    120\u001b[0m         \u001b[1;32melse\u001b[0m\u001b[1;33m:\u001b[0m\u001b[1;33m\u001b[0m\u001b[0m\n\u001b[1;32m--> 121\u001b[1;33m             \u001b[1;32mreturn\u001b[0m \u001b[0mself\u001b[0m\u001b[1;33m.\u001b[0m\u001b[0m_getval\u001b[0m\u001b[1;33m(\u001b[0m\u001b[0mkey\u001b[0m\u001b[1;33m)\u001b[0m\u001b[1;33m\u001b[0m\u001b[0m\n\u001b[0m\u001b[0;32m    122\u001b[0m \u001b[1;33m\u001b[0m\u001b[0m\n\u001b[0;32m    123\u001b[0m \u001b[1;33m\u001b[0m\u001b[0m\n",
      "\u001b[1;32mC:\\Anaconda32\\lib\\site-packages\\venpy\\venpy.pyc\u001b[0m in \u001b[0;36m_getval\u001b[1;34m(self, key)\u001b[0m\n\u001b[0;32m    306\u001b[0m         \u001b[1;32melif\u001b[0m \u001b[0mresult\u001b[0m\u001b[1;33m.\u001b[0m\u001b[0mvalue\u001b[0m \u001b[1;33m==\u001b[0m \u001b[1;33m-\u001b[0m\u001b[1;36m1.298074214633707e33\u001b[0m\u001b[1;33m:\u001b[0m\u001b[1;33m\u001b[0m\u001b[0m\n\u001b[0;32m    307\u001b[0m             \u001b[0mvtype\u001b[0m \u001b[1;33m=\u001b[0m \u001b[0mself\u001b[0m\u001b[1;33m.\u001b[0m\u001b[0m_vtype\u001b[0m\u001b[1;33m(\u001b[0m\u001b[0mkey\u001b[0m\u001b[1;33m)\u001b[0m\u001b[1;33m\u001b[0m\u001b[0m\n\u001b[1;32m--> 308\u001b[1;33m             \u001b[1;32mraise\u001b[0m \u001b[0mKeyError\u001b[0m\u001b[1;33m(\u001b[0m\u001b[1;34m\"Cannot get '%s' outside simulation.\"\u001b[0m \u001b[1;33m%\u001b[0m \u001b[0mvtype\u001b[0m\u001b[1;33m)\u001b[0m\u001b[1;33m\u001b[0m\u001b[0m\n\u001b[0m\u001b[0;32m    309\u001b[0m \u001b[1;33m\u001b[0m\u001b[0m\n\u001b[0;32m    310\u001b[0m         \u001b[1;32mreturn\u001b[0m \u001b[0mresult\u001b[0m\u001b[1;33m.\u001b[0m\u001b[0mvalue\u001b[0m\u001b[1;33m\u001b[0m\u001b[0m\n",
      "\u001b[1;31mKeyError\u001b[0m: \"Cannot get 'level' outside simulation.\""
     ]
    }
   ],
   "source": [
    "print model['Stock']"
   ]
  },
  {
   "cell_type": "markdown",
   "metadata": {},
   "source": [
    "##4. Running Models and Retrieving Results"
   ]
  },
  {
   "cell_type": "markdown",
   "metadata": {},
   "source": [
    "After a model has been loaded, it can be run by using the `run` method, which will tell Vensim to run the loaded model."
   ]
  },
  {
   "cell_type": "code",
   "execution_count": 6,
   "metadata": {
    "collapsed": false
   },
   "outputs": [],
   "source": [
    "model.run()"
   ]
  },
  {
   "cell_type": "markdown",
   "metadata": {},
   "source": [
    "By default, VenPy will use the name `Run` to label the run, as well as the resulting output file `Run.vdf`. We can change this by passing the `runname` argument to the `run method`."
   ]
  },
  {
   "cell_type": "code",
   "execution_count": 7,
   "metadata": {
    "collapsed": true
   },
   "outputs": [],
   "source": [
    "model.run(runname='First Run')"
   ]
  },
  {
   "cell_type": "markdown",
   "metadata": {},
   "source": [
    "This will create an output file in the same directory as the compiled Vensim model labelled, `First Run.vdf`. This output file can be used to view the results in Vensim, but if we can to run a model multiple times and process the data further, we can retrieve the results as a Python dictionary."
   ]
  },
  {
   "cell_type": "code",
   "execution_count": 8,
   "metadata": {
    "collapsed": false
   },
   "outputs": [
    {
     "data": {
      "text/plain": [
       "{'Outflow': [1.0,\n",
       "  0.949999988079071,\n",
       "  0.9024999737739563,\n",
       "  0.8573749661445618,\n",
       "  0.8145062327384949,\n",
       "  0.7737809419631958,\n",
       "  0.7350918650627136,\n",
       "  0.6983372569084167,\n",
       "  0.6634203791618347,\n",
       "  0.6302493810653687,\n",
       "  0.5987368822097778],\n",
       " 'SAVEPER': [1.0, 1.0, 1.0, 1.0, 1.0, 1.0, 1.0, 1.0, 1.0, 1.0, 1.0],\n",
       " 'Stock': [20.0,\n",
       "  19.0,\n",
       "  18.049999237060547,\n",
       "  17.147499084472656,\n",
       "  16.290124893188477,\n",
       "  15.475618362426758,\n",
       "  14.701837539672852,\n",
       "  13.966745376586914,\n",
       "  13.268407821655273,\n",
       "  12.604987144470215,\n",
       "  11.974738121032715]}"
      ]
     },
     "execution_count": 8,
     "metadata": {},
     "output_type": "execute_result"
    }
   ],
   "source": [
    "model.result()"
   ]
  },
  {
   "cell_type": "markdown",
   "metadata": {},
   "source": [
    "By default, this will retrieve all model variables that are of type `Level`, `Auxiliary`, and `GAME`. For finer control we can specify the variable names that we want by passing a list of variable names to the `result` method through the `varnames` keyword argument."
   ]
  },
  {
   "cell_type": "code",
   "execution_count": 9,
   "metadata": {
    "collapsed": false
   },
   "outputs": [
    {
     "data": {
      "text/plain": [
       "{'Stock': [20.0,\n",
       "  19.0,\n",
       "  18.049999237060547,\n",
       "  17.147499084472656,\n",
       "  16.290124893188477,\n",
       "  15.475618362426758,\n",
       "  14.701837539672852,\n",
       "  13.966745376586914,\n",
       "  13.268407821655273,\n",
       "  12.604987144470215,\n",
       "  11.974738121032715]}"
      ]
     },
     "execution_count": 9,
     "metadata": {},
     "output_type": "execute_result"
    }
   ],
   "source": [
    "model.result(varnames=['Stock'])"
   ]
  },
  {
   "cell_type": "markdown",
   "metadata": {},
   "source": [
    "##5. 'Replacing' Model Components"
   ]
  },
  {
   "cell_type": "markdown",
   "metadata": {},
   "source": [
    "Vensim offers a [large selection of functions](https://www.vensim.com/documentation/index.html?22300.htm) to be used in Vensim equations. However, in some cases there may be a particular analysis that requires some type of functionality not present in the Vensim simulation software. These could include (but are not limited to):\n",
    "\n",
    " * Genetic optimization algorithms\n",
    " * Specialized statistical models\n",
    " * Machine learning\n",
    " * Ability to interact with external modeling programs\n",
    " \n",
    "Luckily, Python has many built-in features and third-party projects (such as this one) that can do these things really well."
   ]
  },
  {
   "cell_type": "markdown",
   "metadata": {},
   "source": [
    "To take advantage of this, we can 'replace' a specific Vensim model component by diverting input and output to and from a Python function during a Vensim 'Gaming' simulation. The function must be defined with no arguments, and return a valid input to the target model variable. **Target variable must set as an Auxiliary variable with subtype Gaming to set during Gaming simulation!** "
   ]
  },
  {
   "cell_type": "markdown",
   "metadata": {},
   "source": [
    "In this case we will replicate the Vensim equation with an equivalent Python function, as well as print out the current model time."
   ]
  },
  {
   "cell_type": "code",
   "execution_count": 10,
   "metadata": {
    "collapsed": true
   },
   "outputs": [],
   "source": [
    "def outflow():\n",
    "    print model['Time']\n",
    "    return model['Stock'] / model['Characteristic Time']"
   ]
  },
  {
   "cell_type": "markdown",
   "metadata": {},
   "source": [
    "We can set this function to the target variable `Flow`, effectively 'replacing' this component with the Python function `outflow` that we've defined"
   ]
  },
  {
   "cell_type": "code",
   "execution_count": 11,
   "metadata": {
    "collapsed": true
   },
   "outputs": [],
   "source": [
    "model['Outflow'] = outflow"
   ]
  },
  {
   "cell_type": "markdown",
   "metadata": {},
   "source": [
    "Now, if we run the model you'll see that the same output is obtained as before with the Vensim equation, and we also see that current model time being printed at every time step"
   ]
  },
  {
   "cell_type": "code",
   "execution_count": 12,
   "metadata": {
    "collapsed": false
   },
   "outputs": [
    {
     "name": "stdout",
     "output_type": "stream",
     "text": [
      "0.0\n",
      "1.0\n",
      "2.0\n",
      "3.0\n",
      "4.0\n",
      "5.0\n",
      "6.0\n",
      "7.0\n",
      "8.0\n",
      "9.0\n"
     ]
    }
   ],
   "source": [
    "model.run()"
   ]
  },
  {
   "cell_type": "code",
   "execution_count": 14,
   "metadata": {
    "collapsed": false
   },
   "outputs": [
    {
     "data": {
      "text/plain": [
       "{'Outflow': [1.0,\n",
       "  1.0,\n",
       "  0.949999988079071,\n",
       "  0.9024999737739563,\n",
       "  0.8573749661445618,\n",
       "  0.8145062327384949,\n",
       "  0.7737809419631958,\n",
       "  0.7350918650627136,\n",
       "  0.6983372569084167,\n",
       "  0.6634203791618347,\n",
       "  0.6302493810653687],\n",
       " 'SAVEPER': [1.0, 1.0, 1.0, 1.0, 1.0, 1.0, 1.0, 1.0, 1.0, 1.0, 1.0],\n",
       " 'Stock': [20.0,\n",
       "  19.0,\n",
       "  18.049999237060547,\n",
       "  17.147499084472656,\n",
       "  16.290124893188477,\n",
       "  15.475618362426758,\n",
       "  14.701837539672852,\n",
       "  13.966745376586914,\n",
       "  13.268407821655273,\n",
       "  12.604987144470215,\n",
       "  11.974738121032715]}"
      ]
     },
     "execution_count": 14,
     "metadata": {},
     "output_type": "execute_result"
    }
   ],
   "source": [
    "model.result()"
   ]
  },
  {
   "cell_type": "markdown",
   "metadata": {},
   "source": [
    "Note that when were only able to get and set model *constants* outside of the simulation previously but now we are interacting with a `Stock`. When a callable object (such as a function) is set to a model variable, VenPy knows to run the simulation as a `GAME` where interaction with other variable types is allowed in Vensim. **This will cause the model to run at a slower rate compared to when only constants are set prior to simulation.** \n",
    "\n",
    "If modifying model constants prior to simulation is only required it is recommended to use the previous method as opposed to 'replacing' the model component with a function."
   ]
  },
  {
   "cell_type": "markdown",
   "metadata": {},
   "source": [
    "##6. Working with Subscripts"
   ]
  },
  {
   "cell_type": "markdown",
   "metadata": {},
   "source": [
    "Subscripting is a key feature in Vensim for replicating model structure for up to 8 dimensions. The VenPy allows for interacting with *fully* subscripted variables in the same way that we've shown for non-subscripted variables. However, by using VenPy we can also deal with *subscript ranges*. This allows us to interact with subscripted variables with `numpy` arrays."
   ]
  },
  {
   "cell_type": "markdown",
   "metadata": {},
   "source": [
    "As an example, let's say we have the system as before, but now we have 9 stocks which are categorized by their type [A,B,C] and flow structure [D, E, F] as in the `sub_simple.mdl` in the `examples` directory. We follow the same steps as before to obtain a published Vensim model `sub_simple.vpm`. "
   ]
  },
  {
   "cell_type": "code",
   "execution_count": 3,
   "metadata": {
    "collapsed": false
   },
   "outputs": [],
   "source": [
    "model = venpy.load(\"../models/sub_simple.vpm\")"
   ]
  },
  {
   "cell_type": "markdown",
   "metadata": {},
   "source": [
    "We can chose to set individual elements of a constant prior to simulation just as before, by using the *fully* subscripted variable name as follows,"
   ]
  },
  {
   "cell_type": "code",
   "execution_count": 4,
   "metadata": {
    "collapsed": true
   },
   "outputs": [],
   "source": [
    "model['Characteristic Time[A,D]'] = 10"
   ]
  },
  {
   "cell_type": "markdown",
   "metadata": {},
   "source": [
    "But using VenPy we can also set subscript ranges by passing a numpy array of the same shape as the subscript range to be set."
   ]
  },
  {
   "cell_type": "code",
   "execution_count": 5,
   "metadata": {
    "collapsed": true
   },
   "outputs": [],
   "source": [
    "import numpy as np"
   ]
  },
  {
   "cell_type": "code",
   "execution_count": 6,
   "metadata": {
    "collapsed": true
   },
   "outputs": [],
   "source": [
    "model['Characteristic Time[type,D]'] = np.array([10, 15, 20])"
   ]
  },
  {
   "cell_type": "markdown",
   "metadata": {},
   "source": [
    "When can use any mix of subscript ranges and subscript elements as long as they are in the correct order and there are no naming overlaps between elements of different ranges."
   ]
  },
  {
   "cell_type": "code",
   "execution_count": 7,
   "metadata": {
    "collapsed": false
   },
   "outputs": [
    {
     "name": "stdout",
     "output_type": "stream",
     "text": [
      "[[ 10.   3.   4.]\n",
      " [ 15.   6.   7.]\n",
      " [ 20.   9.  10.]]\n",
      "[ 10.   3.   4.]\n"
     ]
    }
   ],
   "source": [
    "print model['Characteristic Time[type, structure]']\n",
    "print model['Characteristic Time[A, structure]']"
   ]
  },
  {
   "cell_type": "markdown",
   "metadata": {},
   "source": [
    "This basic concept applies to setting model components as before as long as an array of the correct shape will be set to the target model variable from the Python function"
   ]
  },
  {
   "cell_type": "code",
   "execution_count": 8,
   "metadata": {
    "collapsed": true
   },
   "outputs": [],
   "source": [
    "def outflow():\n",
    "    print model['Time']\n",
    "    return model['Stock[type, structure]'] / model['Characteristic Time[type, structure]']"
   ]
  },
  {
   "cell_type": "code",
   "execution_count": 9,
   "metadata": {
    "collapsed": true
   },
   "outputs": [],
   "source": [
    "model['Outflow[type, structure]'] = outflow"
   ]
  },
  {
   "cell_type": "code",
   "execution_count": 12,
   "metadata": {
    "collapsed": false,
    "scrolled": false
   },
   "outputs": [
    {
     "name": "stdout",
     "output_type": "stream",
     "text": [
      "0.0\n",
      "1.0\n",
      "2.0\n",
      "3.0\n",
      "4.0\n",
      "5.0\n",
      "6.0\n",
      "7.0\n",
      "8.0\n",
      "9.0\n"
     ]
    }
   ],
   "source": [
    "model.run()\n",
    "result = model.result()"
   ]
  },
  {
   "cell_type": "markdown",
   "metadata": {},
   "source": [
    "Using `pandas` we can easily view and manipulate the resulting data in the form of a `DataFrame`"
   ]
  },
  {
   "cell_type": "code",
   "execution_count": 13,
   "metadata": {
    "collapsed": true
   },
   "outputs": [],
   "source": [
    "import pandas as pd"
   ]
  },
  {
   "cell_type": "code",
   "execution_count": 17,
   "metadata": {
    "collapsed": false
   },
   "outputs": [
    {
     "data": {
      "text/plain": [
       "<matplotlib.axes._subplots.AxesSubplot at 0xa246a10>"
      ]
     },
     "execution_count": 17,
     "metadata": {},
     "output_type": "execute_result"
    },
    {
     "data": {
      "image/png": "[encoded data removed]",
      "text/plain": [
       "<matplotlib.figure.Figure at 0xa246690>"
      ]
     },
     "metadata": {},
     "output_type": "display_data"
    }
   ],
   "source": [
    "df = pd.DataFrame(result)\n",
    "df.filter(regex='Outflow').plot()"
   ]
  }
 ],
 "metadata": {
  "kernelspec": {
   "display_name": "Python 2",
   "language": "python",
   "name": "python2"
  },
  "language_info": {
   "codemirror_mode": {
    "name": "ipython",
    "version": 2
   },
   "file_extension": ".py",
   "mimetype": "text/x-python",
   "name": "python",
   "nbconvert_exporter": "python",
   "pygments_lexer": "ipython2",
   "version": "2.7.10"
  }
 },
 "nbformat": 4,
 "nbformat_minor": 0
}
