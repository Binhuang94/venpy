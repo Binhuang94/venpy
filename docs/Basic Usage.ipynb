{
 "cells": [
  {
   "cell_type": "markdown",
   "metadata": {},
   "source": [
    "# VenPy Basic Usage"
   ]
  },
  {
   "cell_type": "markdown",
   "metadata": {},
   "source": [
    "Here we will show the basic usage of VenPy. This short tutorial will cover:\n",
    "\n",
    " 1. Installing the package\n",
    " 2. Loading compiled Vensim models\n",
    " 3. Setting and getting model constants\n",
    " 5. Running models and retrieving results\n",
    " 4. 'Replacing' model components with Python functions\n",
    " 6. Working with subscripted variables\n"
   ]
  },
  {
   "cell_type": "code",
   "execution_count": 1,
   "metadata": {
    "collapsed": false
   },
   "outputs": [],
   "source": [
    "%matplotlib inline"
   ]
  },
  {
   "cell_type": "markdown",
   "metadata": {
    "collapsed": true
   },
   "source": [
    "## 1. Installing VenPy"
   ]
  },
  {
   "cell_type": "markdown",
   "metadata": {},
   "source": [
    " * VenPy can be installed from source at the project [home page](https://github.com/pbreach/venpy) by first downloading the source files clicking \"Download Zip\", or by cloning the project to your local machine.\n",
    " \n",
    " * After the files have been downloaded they can be extracted. From here, navigate to the project directory via `$ cd /path/to/directory`. \n",
    " After navigating to the directory we can run the setup script by \n",
    " `$ python setup.py install`\n",
    " * The package will now be installed to your default version of Python which needs to be Windows 32-bit for it to work with Vensim 32-bit. If your default Python is not Windows 32-bit the command `$ python setup.py` can be modified to point to the 32-bit version by instead using `$ /path/to/32bit/python.exe setup.py install`\n",
    " \n",
    " Now you should hopefully be able to: "
   ]
  },
  {
   "cell_type": "code",
   "execution_count": 2,
   "metadata": {
    "collapsed": false
   },
   "outputs": [],
   "source": [
    "import venpy"
   ]
  },
  {
   "cell_type": "markdown",
   "metadata": {},
   "source": [
    "## 2. Loading Vensim Models"
   ]
  },
  {
   "cell_type": "markdown",
   "metadata": {},
   "source": [
    "The Vensim DLL allows you to load in *compiled* Vensim models with the .vpm extension. This can be obtained by [publishing](https://www.vensim.com/documentation/index.html?usr19_saving_to_a_binary_file.htm) the Vensim model that needs to be loaded. Here we will be using the `simple.vpm` model in the `examples` directory. "
   ]
  },
  {
   "cell_type": "markdown",
   "metadata": {},
   "source": [
    "![Alt Text](https://github.com/pbreach/venpy/blob/master/models/simple.png?raw=True)"
   ]
  },
  {
   "cell_type": "code",
   "execution_count": 3,
   "metadata": {
    "collapsed": false
   },
   "outputs": [],
   "source": [
    "model = venpy.load('../models/simple.vpm')"
   ]
  },
  {
   "cell_type": "markdown",
   "metadata": {},
   "source": [
    "After the model has been loaded we can get some information of the names and types of model variables through the `vtype` attribute:"
   ]
  },
  {
   "cell_type": "code",
   "execution_count": 4,
   "metadata": {
    "collapsed": false
   },
   "outputs": [
    {
     "data": {
      "text/plain": [
       "{'.Control': 'group',\n",
       " '.simple': 'group',\n",
       " 'Characteristic Time': 'constant',\n",
       " 'FINAL TIME': 'constant',\n",
       " 'INITIAL TIME': 'constant',\n",
       " 'Outflow': 'game',\n",
       " 'SAVEPER': 'aux',\n",
       " 'Stock': 'level',\n",
       " 'TIME STEP': 'constant',\n",
       " 'Time': 'time_base'}"
      ]
     },
     "execution_count": 4,
     "metadata": {},
     "output_type": "execute_result"
    }
   ],
   "source": [
    "model.vtype"
   ]
  },
  {
   "cell_type": "markdown",
   "metadata": {},
   "source": [
    "## 3. Setting and Getting Model Constants"
   ]
  },
  {
   "cell_type": "markdown",
   "metadata": {},
   "source": [
    "One of the main features associated with using the Vensim DLL is the ability to retrieve and set model constants prior to simulation. This will help to facilitate batch processing of models for various types of sensitivity analyses.\n",
    "\n",
    "This functionality is incorporated in VenPy through the `__setitem__` and `__getitem__` methods, and can be used as follows:"
   ]
  },
  {
   "cell_type": "code",
   "execution_count": 5,
   "metadata": {
    "collapsed": false
   },
   "outputs": [
    {
     "name": "stdout",
     "output_type": "stream",
     "text": [
      "Characteristic Time is initially 5\n",
      "Characteristic Time is now 20\n"
     ]
    }
   ],
   "source": [
    "current = model['Characteristic Time']\n",
    "print(\"Characteristic Time is initially %d\" % current)\n",
    "\n",
    "model['Characteristic Time'] = 20\n",
    "print(\"Characteristic Time is now %d\" % model['Characteristic Time'])"
   ]
  },
  {
   "cell_type": "markdown",
   "metadata": {},
   "source": [
    "Note that if the Vensim variable is *not* a model constant, and is accessed in any way *outside* of a simulation an error will be thrown. The reason being that Vensim does not hold other variable types in memory. However, we can get around this by running a GAME simulation which will be discussed in Section 5"
   ]
  },
  {
   "cell_type": "code",
   "execution_count": 7,
   "metadata": {
    "collapsed": false
   },
   "outputs": [
    {
     "ename": "KeyError",
     "evalue": "\"Cannot get 'level' outside simulation.\"",
     "output_type": "error",
     "traceback": [
      "\u001b[1;31m---------------------------------------------------------------------------\u001b[0m",
      "\u001b[1;31mKeyError\u001b[0m                                  Traceback (most recent call last)",
      "\u001b[1;32m<ipython-input-7-5907a46d7140>\u001b[0m in \u001b[0;36m<module>\u001b[1;34m()\u001b[0m\n\u001b[1;32m----> 1\u001b[1;33m \u001b[0mprint\u001b[0m\u001b[1;33m(\u001b[0m\u001b[0mmodel\u001b[0m\u001b[1;33m[\u001b[0m\u001b[1;34m'Stock'\u001b[0m\u001b[1;33m]\u001b[0m\u001b[1;33m)\u001b[0m\u001b[1;33m\u001b[0m\u001b[0m\n\u001b[0m",
      "\u001b[1;32mC:\\Users\\Patrick\\Anaconda3 (32-bit)\\lib\\site-packages\\venpy\\venpy.py\u001b[0m in \u001b[0;36m__getitem__\u001b[1;34m(self, key)\u001b[0m\n\u001b[0;32m    109\u001b[0m \u001b[1;33m\u001b[0m\u001b[0m\n\u001b[0;32m    110\u001b[0m         \u001b[1;32melse\u001b[0m\u001b[1;33m:\u001b[0m\u001b[1;33m\u001b[0m\u001b[0m\n\u001b[1;32m--> 111\u001b[1;33m             \u001b[1;32mreturn\u001b[0m \u001b[0mself\u001b[0m\u001b[1;33m.\u001b[0m\u001b[0m_getval\u001b[0m\u001b[1;33m(\u001b[0m\u001b[0mkey\u001b[0m\u001b[1;33m)\u001b[0m\u001b[1;33m\u001b[0m\u001b[0m\n\u001b[0m\u001b[0;32m    112\u001b[0m \u001b[1;33m\u001b[0m\u001b[0m\n\u001b[0;32m    113\u001b[0m \u001b[1;33m\u001b[0m\u001b[0m\n",
      "\u001b[1;32mC:\\Users\\Patrick\\Anaconda3 (32-bit)\\lib\\site-packages\\venpy\\venpy.py\u001b[0m in \u001b[0;36m_getval\u001b[1;34m(self, key)\u001b[0m\n\u001b[0;32m    318\u001b[0m         \u001b[1;32melif\u001b[0m \u001b[0mresult\u001b[0m\u001b[1;33m.\u001b[0m\u001b[0mvalue\u001b[0m \u001b[1;33m==\u001b[0m \u001b[1;33m-\u001b[0m\u001b[1;36m1.298074214633707e33\u001b[0m\u001b[1;33m:\u001b[0m\u001b[1;33m\u001b[0m\u001b[0m\n\u001b[0;32m    319\u001b[0m             \u001b[0mvtype\u001b[0m \u001b[1;33m=\u001b[0m \u001b[0mself\u001b[0m\u001b[1;33m.\u001b[0m\u001b[0mvtype\u001b[0m\u001b[1;33m[\u001b[0m\u001b[0mkey\u001b[0m\u001b[1;33m]\u001b[0m\u001b[1;33m\u001b[0m\u001b[0m\n\u001b[1;32m--> 320\u001b[1;33m             \u001b[1;32mraise\u001b[0m \u001b[0mKeyError\u001b[0m\u001b[1;33m(\u001b[0m\u001b[1;34m\"Cannot get '%s' outside simulation.\"\u001b[0m \u001b[1;33m%\u001b[0m \u001b[0mvtype\u001b[0m\u001b[1;33m)\u001b[0m\u001b[1;33m\u001b[0m\u001b[0m\n\u001b[0m\u001b[0;32m    321\u001b[0m \u001b[1;33m\u001b[0m\u001b[0m\n\u001b[0;32m    322\u001b[0m         \u001b[1;32mreturn\u001b[0m \u001b[0mresult\u001b[0m\u001b[1;33m.\u001b[0m\u001b[0mvalue\u001b[0m\u001b[1;33m\u001b[0m\u001b[0m\n",
      "\u001b[1;31mKeyError\u001b[0m: \"Cannot get 'level' outside simulation.\""
     ]
    }
   ],
   "source": [
    "print(model['Stock'])"
   ]
  },
  {
   "cell_type": "markdown",
   "metadata": {},
   "source": [
    "## 4. Running Models and Retrieving Results"
   ]
  },
  {
   "cell_type": "markdown",
   "metadata": {},
   "source": [
    "After a model has been loaded, it can be run by using the `run` method, which will tell Vensim to run the loaded model."
   ]
  },
  {
   "cell_type": "code",
   "execution_count": 8,
   "metadata": {
    "collapsed": false
   },
   "outputs": [],
   "source": [
    "model.run()"
   ]
  },
  {
   "cell_type": "markdown",
   "metadata": {},
   "source": [
    "By default, VenPy will use the name `Run` to label the run, as well as the resulting output file `Run.vdf`. We can change this by passing a string as the `runname` argument to the `run method`."
   ]
  },
  {
   "cell_type": "code",
   "execution_count": 9,
   "metadata": {
    "collapsed": true
   },
   "outputs": [],
   "source": [
    "model.run(runname='First Run')"
   ]
  },
  {
   "cell_type": "markdown",
   "metadata": {},
   "source": [
    "This will create an output file in the same directory as the compiled Vensim model labelled, `First Run.vdf`. This output file can be used to view the results in Vensim, but if we want to run a model multiple times and process the data further, we can retrieve the results as a pandas `DataFrame`."
   ]
  },
  {
   "cell_type": "code",
   "execution_count": 10,
   "metadata": {
    "collapsed": false
   },
   "outputs": [
    {
     "data": {
      "text/html": [
       "<div>\n",
       "<table border=\"1\" class=\"dataframe\">\n",
       "  <thead>\n",
       "    <tr style=\"text-align: right;\">\n",
       "      <th></th>\n",
       "      <th>Outflow</th>\n",
       "      <th>SAVEPER</th>\n",
       "      <th>Stock</th>\n",
       "    </tr>\n",
       "  </thead>\n",
       "  <tbody>\n",
       "    <tr>\n",
       "      <th>0</th>\n",
       "      <td>1.000000</td>\n",
       "      <td>1</td>\n",
       "      <td>20.000000</td>\n",
       "    </tr>\n",
       "    <tr>\n",
       "      <th>1</th>\n",
       "      <td>0.950000</td>\n",
       "      <td>1</td>\n",
       "      <td>19.000000</td>\n",
       "    </tr>\n",
       "    <tr>\n",
       "      <th>2</th>\n",
       "      <td>0.902500</td>\n",
       "      <td>1</td>\n",
       "      <td>18.049999</td>\n",
       "    </tr>\n",
       "    <tr>\n",
       "      <th>3</th>\n",
       "      <td>0.857375</td>\n",
       "      <td>1</td>\n",
       "      <td>17.147499</td>\n",
       "    </tr>\n",
       "    <tr>\n",
       "      <th>4</th>\n",
       "      <td>0.814506</td>\n",
       "      <td>1</td>\n",
       "      <td>16.290125</td>\n",
       "    </tr>\n",
       "    <tr>\n",
       "      <th>5</th>\n",
       "      <td>0.773781</td>\n",
       "      <td>1</td>\n",
       "      <td>15.475618</td>\n",
       "    </tr>\n",
       "    <tr>\n",
       "      <th>6</th>\n",
       "      <td>0.735092</td>\n",
       "      <td>1</td>\n",
       "      <td>14.701838</td>\n",
       "    </tr>\n",
       "    <tr>\n",
       "      <th>7</th>\n",
       "      <td>0.698337</td>\n",
       "      <td>1</td>\n",
       "      <td>13.966745</td>\n",
       "    </tr>\n",
       "    <tr>\n",
       "      <th>8</th>\n",
       "      <td>0.663420</td>\n",
       "      <td>1</td>\n",
       "      <td>13.268408</td>\n",
       "    </tr>\n",
       "    <tr>\n",
       "      <th>9</th>\n",
       "      <td>0.630249</td>\n",
       "      <td>1</td>\n",
       "      <td>12.604987</td>\n",
       "    </tr>\n",
       "    <tr>\n",
       "      <th>10</th>\n",
       "      <td>0.598737</td>\n",
       "      <td>1</td>\n",
       "      <td>11.974738</td>\n",
       "    </tr>\n",
       "  </tbody>\n",
       "</table>\n",
       "</div>"
      ],
      "text/plain": [
       "     Outflow  SAVEPER      Stock\n",
       "0   1.000000        1  20.000000\n",
       "1   0.950000        1  19.000000\n",
       "2   0.902500        1  18.049999\n",
       "3   0.857375        1  17.147499\n",
       "4   0.814506        1  16.290125\n",
       "5   0.773781        1  15.475618\n",
       "6   0.735092        1  14.701838\n",
       "7   0.698337        1  13.966745\n",
       "8   0.663420        1  13.268408\n",
       "9   0.630249        1  12.604987\n",
       "10  0.598737        1  11.974738"
      ]
     },
     "execution_count": 10,
     "metadata": {},
     "output_type": "execute_result"
    }
   ],
   "source": [
    "model.result()"
   ]
  },
  {
   "cell_type": "markdown",
   "metadata": {},
   "source": [
    "By default, this will retrieve all model variables that are of type `Level`, `Auxiliary`, or `Game`. For finer control we can specify the variable names that we want by passing a list of variable names to the `result` method through the `names` keyword argument."
   ]
  },
  {
   "cell_type": "code",
   "execution_count": 11,
   "metadata": {
    "collapsed": false
   },
   "outputs": [
    {
     "data": {
      "text/html": [
       "<div>\n",
       "<table border=\"1\" class=\"dataframe\">\n",
       "  <thead>\n",
       "    <tr style=\"text-align: right;\">\n",
       "      <th></th>\n",
       "      <th>Stock</th>\n",
       "    </tr>\n",
       "  </thead>\n",
       "  <tbody>\n",
       "    <tr>\n",
       "      <th>0</th>\n",
       "      <td>20.000000</td>\n",
       "    </tr>\n",
       "    <tr>\n",
       "      <th>1</th>\n",
       "      <td>19.000000</td>\n",
       "    </tr>\n",
       "    <tr>\n",
       "      <th>2</th>\n",
       "      <td>18.049999</td>\n",
       "    </tr>\n",
       "    <tr>\n",
       "      <th>3</th>\n",
       "      <td>17.147499</td>\n",
       "    </tr>\n",
       "    <tr>\n",
       "      <th>4</th>\n",
       "      <td>16.290125</td>\n",
       "    </tr>\n",
       "    <tr>\n",
       "      <th>5</th>\n",
       "      <td>15.475618</td>\n",
       "    </tr>\n",
       "    <tr>\n",
       "      <th>6</th>\n",
       "      <td>14.701838</td>\n",
       "    </tr>\n",
       "    <tr>\n",
       "      <th>7</th>\n",
       "      <td>13.966745</td>\n",
       "    </tr>\n",
       "    <tr>\n",
       "      <th>8</th>\n",
       "      <td>13.268408</td>\n",
       "    </tr>\n",
       "    <tr>\n",
       "      <th>9</th>\n",
       "      <td>12.604987</td>\n",
       "    </tr>\n",
       "    <tr>\n",
       "      <th>10</th>\n",
       "      <td>11.974738</td>\n",
       "    </tr>\n",
       "  </tbody>\n",
       "</table>\n",
       "</div>"
      ],
      "text/plain": [
       "        Stock\n",
       "0   20.000000\n",
       "1   19.000000\n",
       "2   18.049999\n",
       "3   17.147499\n",
       "4   16.290125\n",
       "5   15.475618\n",
       "6   14.701838\n",
       "7   13.966745\n",
       "8   13.268408\n",
       "9   12.604987\n",
       "10  11.974738"
      ]
     },
     "execution_count": 11,
     "metadata": {},
     "output_type": "execute_result"
    }
   ],
   "source": [
    "model.result(names=['Stock'])"
   ]
  },
  {
   "cell_type": "markdown",
   "metadata": {},
   "source": [
    "## 5. 'Replacing' Model Components"
   ]
  },
  {
   "cell_type": "markdown",
   "metadata": {},
   "source": [
    "Vensim offers a [large selection of functions](https://www.vensim.com/documentation/index.html?22300.htm) to be used in Vensim equations. However, in some cases there may be a particular analysis that requires some type of functionality not present in the Vensim simulation software. These could include (but are not limited to):\n",
    "\n",
    " * Genetic optimization algorithms\n",
    " * Specialized statistical models\n",
    " * Machine learning\n",
    " * Ability to interact with external modeling programs\n",
    " \n",
    "Luckily, Python has many built-in features and third-party projects (such as this one) that can do these things really well."
   ]
  },
  {
   "cell_type": "markdown",
   "metadata": {},
   "source": [
    "To take advantage of this, we can 'replace' a specific Vensim model component by diverting input and output to and from a Python function during a Vensim 'Gaming' simulation. The function must be defined with no arguments, and return a valid input to the target model variable. **Target variable must set as an Auxiliary variable with subtype Game to set during Gaming simulation!** "
   ]
  },
  {
   "cell_type": "markdown",
   "metadata": {},
   "source": [
    "In this case we will replicate the Vensim equation with an equivalent Python function, as well as print out the current model time."
   ]
  },
  {
   "cell_type": "code",
   "execution_count": 13,
   "metadata": {
    "collapsed": false
   },
   "outputs": [],
   "source": [
    "def outflow():\n",
    "    print(model['Time'])\n",
    "    return model['Stock'] / model['Characteristic Time']"
   ]
  },
  {
   "cell_type": "markdown",
   "metadata": {},
   "source": [
    "We can set this function to the target variable `Outlow`, effectively 'replacing' this component with the Python function `outflow` that we've defined"
   ]
  },
  {
   "cell_type": "code",
   "execution_count": 14,
   "metadata": {
    "collapsed": true
   },
   "outputs": [],
   "source": [
    "model['Outflow'] = outflow"
   ]
  },
  {
   "cell_type": "markdown",
   "metadata": {},
   "source": [
    "Now, if we run the model you'll see that the same output is obtained as before with the Vensim equation, and we also see that the current model time is being printed at every time step that the function is run."
   ]
  },
  {
   "cell_type": "code",
   "execution_count": 15,
   "metadata": {
    "collapsed": false
   },
   "outputs": [
    {
     "name": "stdout",
     "output_type": "stream",
     "text": [
      "0.0\n",
      "1.0\n",
      "2.0\n",
      "3.0\n",
      "4.0\n",
      "5.0\n",
      "6.0\n",
      "7.0\n",
      "8.0\n",
      "9.0\n"
     ]
    }
   ],
   "source": [
    "model.run()"
   ]
  },
  {
   "cell_type": "code",
   "execution_count": 16,
   "metadata": {
    "collapsed": false
   },
   "outputs": [
    {
     "data": {
      "text/html": [
       "<div>\n",
       "<table border=\"1\" class=\"dataframe\">\n",
       "  <thead>\n",
       "    <tr style=\"text-align: right;\">\n",
       "      <th></th>\n",
       "      <th>Outflow</th>\n",
       "      <th>SAVEPER</th>\n",
       "      <th>Stock</th>\n",
       "    </tr>\n",
       "  </thead>\n",
       "  <tbody>\n",
       "    <tr>\n",
       "      <th>0</th>\n",
       "      <td>1.000000</td>\n",
       "      <td>1</td>\n",
       "      <td>20.000000</td>\n",
       "    </tr>\n",
       "    <tr>\n",
       "      <th>1</th>\n",
       "      <td>0.950000</td>\n",
       "      <td>1</td>\n",
       "      <td>19.000000</td>\n",
       "    </tr>\n",
       "    <tr>\n",
       "      <th>2</th>\n",
       "      <td>0.902500</td>\n",
       "      <td>1</td>\n",
       "      <td>18.049999</td>\n",
       "    </tr>\n",
       "    <tr>\n",
       "      <th>3</th>\n",
       "      <td>0.857375</td>\n",
       "      <td>1</td>\n",
       "      <td>17.147499</td>\n",
       "    </tr>\n",
       "    <tr>\n",
       "      <th>4</th>\n",
       "      <td>0.814506</td>\n",
       "      <td>1</td>\n",
       "      <td>16.290125</td>\n",
       "    </tr>\n",
       "    <tr>\n",
       "      <th>5</th>\n",
       "      <td>0.773781</td>\n",
       "      <td>1</td>\n",
       "      <td>15.475618</td>\n",
       "    </tr>\n",
       "    <tr>\n",
       "      <th>6</th>\n",
       "      <td>0.735092</td>\n",
       "      <td>1</td>\n",
       "      <td>14.701838</td>\n",
       "    </tr>\n",
       "    <tr>\n",
       "      <th>7</th>\n",
       "      <td>0.698337</td>\n",
       "      <td>1</td>\n",
       "      <td>13.966745</td>\n",
       "    </tr>\n",
       "    <tr>\n",
       "      <th>8</th>\n",
       "      <td>0.663420</td>\n",
       "      <td>1</td>\n",
       "      <td>13.268408</td>\n",
       "    </tr>\n",
       "    <tr>\n",
       "      <th>9</th>\n",
       "      <td>0.630249</td>\n",
       "      <td>1</td>\n",
       "      <td>12.604987</td>\n",
       "    </tr>\n",
       "    <tr>\n",
       "      <th>10</th>\n",
       "      <td>0.630249</td>\n",
       "      <td>1</td>\n",
       "      <td>11.974738</td>\n",
       "    </tr>\n",
       "  </tbody>\n",
       "</table>\n",
       "</div>"
      ],
      "text/plain": [
       "     Outflow  SAVEPER      Stock\n",
       "0   1.000000        1  20.000000\n",
       "1   0.950000        1  19.000000\n",
       "2   0.902500        1  18.049999\n",
       "3   0.857375        1  17.147499\n",
       "4   0.814506        1  16.290125\n",
       "5   0.773781        1  15.475618\n",
       "6   0.735092        1  14.701838\n",
       "7   0.698337        1  13.966745\n",
       "8   0.663420        1  13.268408\n",
       "9   0.630249        1  12.604987\n",
       "10  0.630249        1  11.974738"
      ]
     },
     "execution_count": 16,
     "metadata": {},
     "output_type": "execute_result"
    }
   ],
   "source": [
    "model.result()"
   ]
  },
  {
   "cell_type": "markdown",
   "metadata": {},
   "source": [
    "Note that when were only able to get and set model *constants* outside of the simulation previously but now we are interacting with a `Stock`. When a callable object (such as a function) is set to a model variable, VenPy knows to run the simulation as a `GAME` where interaction with other variable types is allowed in Vensim. **This will cause the model to run at a slower rate compared to when only constants are set prior to simulation.** \n",
    "\n",
    "If modifying model constants prior to simulation is only required it is recommended to use the previous method as opposed to 'replacing' the model component with a function."
   ]
  },
  {
   "cell_type": "markdown",
   "metadata": {},
   "source": [
    "## 6. Working with Subscripts"
   ]
  },
  {
   "cell_type": "markdown",
   "metadata": {},
   "source": [
    "Subscripting is a key feature in Vensim for replicating model structure for up to 8 dimensions. The VenPy allows for interacting with *fully* subscripted variables in the same way that we've shown for non-subscripted variables. However, by using VenPy we can also deal with *subscript ranges*. This allows us to interact with subscripted variables with `numpy` arrays."
   ]
  },
  {
   "cell_type": "markdown",
   "metadata": {},
   "source": [
    "As an example, let's say we have the same system as before, but now we have 9 stocks which are categorized by their type [A,B,C] and flow structure [D, E, F] as in the `sub_simple.mdl` in the `examples` directory. We follow the same steps as before to obtain a published Vensim model `sub_simple.vpm`. "
   ]
  },
  {
   "cell_type": "code",
   "execution_count": 17,
   "metadata": {
    "collapsed": false
   },
   "outputs": [],
   "source": [
    "model = venpy.load(\"../models/sub_simple.vpm\")"
   ]
  },
  {
   "cell_type": "markdown",
   "metadata": {},
   "source": [
    "We can choose to set individual elements of a constant prior to simulation just as before, by using the *fully* subscripted variable name as follows,"
   ]
  },
  {
   "cell_type": "code",
   "execution_count": 18,
   "metadata": {
    "collapsed": true
   },
   "outputs": [],
   "source": [
    "model['Characteristic Time[A,D]'] = 10"
   ]
  },
  {
   "cell_type": "markdown",
   "metadata": {},
   "source": [
    "But using VenPy we can also set subscript ranges by passing a numpy array of the same shape as the subscript range to be set."
   ]
  },
  {
   "cell_type": "code",
   "execution_count": 19,
   "metadata": {
    "collapsed": true
   },
   "outputs": [],
   "source": [
    "import numpy as np"
   ]
  },
  {
   "cell_type": "code",
   "execution_count": 20,
   "metadata": {
    "collapsed": true
   },
   "outputs": [],
   "source": [
    "model['Characteristic Time[type,D]'] = np.array([10, 15, 20])"
   ]
  },
  {
   "cell_type": "markdown",
   "metadata": {},
   "source": [
    "When can use any mix of subscript ranges and subscript elements as long as they are in the correct order and there are no naming overlaps between elements of different ranges."
   ]
  },
  {
   "cell_type": "code",
   "execution_count": 21,
   "metadata": {
    "collapsed": false
   },
   "outputs": [
    {
     "name": "stdout",
     "output_type": "stream",
     "text": [
      "Entire array \n",
      " [[ 10.   3.   4.]\n",
      " [ 15.   6.   7.]\n",
      " [ 20.   9.  10.]]\n",
      "Slice \n",
      " [ 10.   3.   4.]\n"
     ]
    }
   ],
   "source": [
    "print(\"Entire array \\n\", model['Characteristic Time[type, structure]'])\n",
    "print (\"Slice \\n\", model['Characteristic Time[A, structure]'])"
   ]
  },
  {
   "cell_type": "markdown",
   "metadata": {},
   "source": [
    "This basic concept applies to setting model components as before as long as an array of the correct shape will be set to the target model variable from the Python function"
   ]
  },
  {
   "cell_type": "code",
   "execution_count": 22,
   "metadata": {
    "collapsed": true
   },
   "outputs": [],
   "source": [
    "def outflow():\n",
    "    return model['Stock[type, structure]'] / model['Characteristic Time[type, structure]']"
   ]
  },
  {
   "cell_type": "code",
   "execution_count": 23,
   "metadata": {
    "collapsed": true
   },
   "outputs": [],
   "source": [
    "model['Outflow[type, structure]'] = outflow"
   ]
  },
  {
   "cell_type": "code",
   "execution_count": 24,
   "metadata": {
    "collapsed": false,
    "scrolled": false
   },
   "outputs": [],
   "source": [
    "model.run()\n",
    "result = model.result()"
   ]
  },
  {
   "cell_type": "markdown",
   "metadata": {},
   "source": [
    "We can easily view and manipulate the resulting data in the form of a `DataFrame`"
   ]
  },
  {
   "cell_type": "code",
   "execution_count": 25,
   "metadata": {
    "collapsed": false
   },
   "outputs": [
    {
     "data": {
      "text/plain": [
       "<matplotlib.axes._subplots.AxesSubplot at 0x70e29b0>"
      ]
     },
     "execution_count": 25,
     "metadata": {},
     "output_type": "execute_result"
    },
    {
     "data": {
      "image/png": "[encoded data removed]",
      "text/plain": [
       "<matplotlib.figure.Figure at 0x70e2430>"
      ]
     },
     "metadata": {},
     "output_type": "display_data"
    }
   ],
   "source": [
    "result.filter(regex='Stock').plot()"
   ]
  },
  {
   "cell_type": "code",
   "execution_count": 26,
   "metadata": {
    "collapsed": false
   },
   "outputs": [
    {
     "data": {
      "text/html": [
       "<div>\n",
       "<table border=\"1\" class=\"dataframe\">\n",
       "  <thead>\n",
       "    <tr style=\"text-align: right;\">\n",
       "      <th></th>\n",
       "      <th>Outflow[A,D]</th>\n",
       "      <th>Outflow[A,E]</th>\n",
       "      <th>Outflow[A,F]</th>\n",
       "      <th>Outflow[B,D]</th>\n",
       "      <th>Outflow[B,E]</th>\n",
       "      <th>Outflow[B,F]</th>\n",
       "      <th>Outflow[C,D]</th>\n",
       "      <th>Outflow[C,E]</th>\n",
       "      <th>Outflow[C,F]</th>\n",
       "      <th>SAVEPER</th>\n",
       "      <th>Stock[A,D]</th>\n",
       "      <th>Stock[A,E]</th>\n",
       "      <th>Stock[A,F]</th>\n",
       "      <th>Stock[B,D]</th>\n",
       "      <th>Stock[B,E]</th>\n",
       "      <th>Stock[B,F]</th>\n",
       "      <th>Stock[C,D]</th>\n",
       "      <th>Stock[C,E]</th>\n",
       "      <th>Stock[C,F]</th>\n",
       "    </tr>\n",
       "  </thead>\n",
       "  <tbody>\n",
       "    <tr>\n",
       "      <th>0</th>\n",
       "      <td>2.000000</td>\n",
       "      <td>6.666667</td>\n",
       "      <td>5.000000</td>\n",
       "      <td>1.333333</td>\n",
       "      <td>3.333333</td>\n",
       "      <td>2.857143</td>\n",
       "      <td>1.000000</td>\n",
       "      <td>2.222222</td>\n",
       "      <td>2.000000</td>\n",
       "      <td>1</td>\n",
       "      <td>20.000000</td>\n",
       "      <td>20.000000</td>\n",
       "      <td>20.000000</td>\n",
       "      <td>20.000000</td>\n",
       "      <td>20.000000</td>\n",
       "      <td>20.000000</td>\n",
       "      <td>20.000000</td>\n",
       "      <td>20.000000</td>\n",
       "      <td>20.000000</td>\n",
       "    </tr>\n",
       "    <tr>\n",
       "      <th>1</th>\n",
       "      <td>1.800000</td>\n",
       "      <td>4.444445</td>\n",
       "      <td>3.750000</td>\n",
       "      <td>1.244444</td>\n",
       "      <td>2.777778</td>\n",
       "      <td>2.448980</td>\n",
       "      <td>0.950000</td>\n",
       "      <td>1.975309</td>\n",
       "      <td>1.800000</td>\n",
       "      <td>1</td>\n",
       "      <td>18.000000</td>\n",
       "      <td>13.333334</td>\n",
       "      <td>15.000000</td>\n",
       "      <td>18.666666</td>\n",
       "      <td>16.666666</td>\n",
       "      <td>17.142857</td>\n",
       "      <td>19.000000</td>\n",
       "      <td>17.777779</td>\n",
       "      <td>18.000000</td>\n",
       "    </tr>\n",
       "    <tr>\n",
       "      <th>2</th>\n",
       "      <td>1.620000</td>\n",
       "      <td>2.962963</td>\n",
       "      <td>2.812500</td>\n",
       "      <td>1.161481</td>\n",
       "      <td>2.314815</td>\n",
       "      <td>2.099125</td>\n",
       "      <td>0.902500</td>\n",
       "      <td>1.755830</td>\n",
       "      <td>1.620000</td>\n",
       "      <td>1</td>\n",
       "      <td>16.200001</td>\n",
       "      <td>8.888889</td>\n",
       "      <td>11.250000</td>\n",
       "      <td>17.422222</td>\n",
       "      <td>13.888888</td>\n",
       "      <td>14.693877</td>\n",
       "      <td>18.049999</td>\n",
       "      <td>15.802470</td>\n",
       "      <td>16.200001</td>\n",
       "    </tr>\n",
       "    <tr>\n",
       "      <th>3</th>\n",
       "      <td>1.458000</td>\n",
       "      <td>1.975309</td>\n",
       "      <td>2.109375</td>\n",
       "      <td>1.084049</td>\n",
       "      <td>1.929012</td>\n",
       "      <td>1.799250</td>\n",
       "      <td>0.857375</td>\n",
       "      <td>1.560738</td>\n",
       "      <td>1.458000</td>\n",
       "      <td>1</td>\n",
       "      <td>14.580001</td>\n",
       "      <td>5.925926</td>\n",
       "      <td>8.437500</td>\n",
       "      <td>16.260740</td>\n",
       "      <td>11.574074</td>\n",
       "      <td>12.594751</td>\n",
       "      <td>17.147499</td>\n",
       "      <td>14.046640</td>\n",
       "      <td>14.580001</td>\n",
       "    </tr>\n",
       "    <tr>\n",
       "      <th>4</th>\n",
       "      <td>1.312200</td>\n",
       "      <td>1.316872</td>\n",
       "      <td>1.582031</td>\n",
       "      <td>1.011779</td>\n",
       "      <td>1.607510</td>\n",
       "      <td>1.542214</td>\n",
       "      <td>0.814506</td>\n",
       "      <td>1.387323</td>\n",
       "      <td>1.312200</td>\n",
       "      <td>1</td>\n",
       "      <td>13.122001</td>\n",
       "      <td>3.950617</td>\n",
       "      <td>6.328125</td>\n",
       "      <td>15.176691</td>\n",
       "      <td>9.645061</td>\n",
       "      <td>10.795501</td>\n",
       "      <td>16.290125</td>\n",
       "      <td>12.485903</td>\n",
       "      <td>13.122001</td>\n",
       "    </tr>\n",
       "    <tr>\n",
       "      <th>5</th>\n",
       "      <td>1.180980</td>\n",
       "      <td>0.877915</td>\n",
       "      <td>1.186523</td>\n",
       "      <td>0.944327</td>\n",
       "      <td>1.339592</td>\n",
       "      <td>1.321898</td>\n",
       "      <td>0.773781</td>\n",
       "      <td>1.233176</td>\n",
       "      <td>1.180980</td>\n",
       "      <td>1</td>\n",
       "      <td>11.809801</td>\n",
       "      <td>2.633745</td>\n",
       "      <td>4.746094</td>\n",
       "      <td>14.164911</td>\n",
       "      <td>8.037551</td>\n",
       "      <td>9.253286</td>\n",
       "      <td>15.475618</td>\n",
       "      <td>11.098580</td>\n",
       "      <td>11.809801</td>\n",
       "    </tr>\n",
       "    <tr>\n",
       "      <th>6</th>\n",
       "      <td>1.062882</td>\n",
       "      <td>0.585277</td>\n",
       "      <td>0.889893</td>\n",
       "      <td>0.881372</td>\n",
       "      <td>1.116326</td>\n",
       "      <td>1.133055</td>\n",
       "      <td>0.735092</td>\n",
       "      <td>1.096156</td>\n",
       "      <td>1.062882</td>\n",
       "      <td>1</td>\n",
       "      <td>10.628821</td>\n",
       "      <td>1.755830</td>\n",
       "      <td>3.559570</td>\n",
       "      <td>13.220584</td>\n",
       "      <td>6.697959</td>\n",
       "      <td>7.931388</td>\n",
       "      <td>14.701838</td>\n",
       "      <td>9.865405</td>\n",
       "      <td>10.628821</td>\n",
       "    </tr>\n",
       "    <tr>\n",
       "      <th>7</th>\n",
       "      <td>0.956594</td>\n",
       "      <td>0.390184</td>\n",
       "      <td>0.667419</td>\n",
       "      <td>0.822614</td>\n",
       "      <td>0.930272</td>\n",
       "      <td>0.971190</td>\n",
       "      <td>0.698337</td>\n",
       "      <td>0.974361</td>\n",
       "      <td>0.956594</td>\n",
       "      <td>1</td>\n",
       "      <td>9.565939</td>\n",
       "      <td>1.170553</td>\n",
       "      <td>2.669678</td>\n",
       "      <td>12.339211</td>\n",
       "      <td>5.581633</td>\n",
       "      <td>6.798333</td>\n",
       "      <td>13.966745</td>\n",
       "      <td>8.769249</td>\n",
       "      <td>9.565939</td>\n",
       "    </tr>\n",
       "    <tr>\n",
       "      <th>8</th>\n",
       "      <td>0.860935</td>\n",
       "      <td>0.260123</td>\n",
       "      <td>0.500565</td>\n",
       "      <td>0.767773</td>\n",
       "      <td>0.775227</td>\n",
       "      <td>0.832449</td>\n",
       "      <td>0.663420</td>\n",
       "      <td>0.866099</td>\n",
       "      <td>0.860935</td>\n",
       "      <td>1</td>\n",
       "      <td>8.609345</td>\n",
       "      <td>0.780369</td>\n",
       "      <td>2.002258</td>\n",
       "      <td>11.516598</td>\n",
       "      <td>4.651361</td>\n",
       "      <td>5.827143</td>\n",
       "      <td>13.268408</td>\n",
       "      <td>7.794888</td>\n",
       "      <td>8.609345</td>\n",
       "    </tr>\n",
       "    <tr>\n",
       "      <th>9</th>\n",
       "      <td>0.774841</td>\n",
       "      <td>0.173415</td>\n",
       "      <td>0.375423</td>\n",
       "      <td>0.716588</td>\n",
       "      <td>0.646022</td>\n",
       "      <td>0.713528</td>\n",
       "      <td>0.630249</td>\n",
       "      <td>0.769865</td>\n",
       "      <td>0.774841</td>\n",
       "      <td>1</td>\n",
       "      <td>7.748411</td>\n",
       "      <td>0.520246</td>\n",
       "      <td>1.501694</td>\n",
       "      <td>10.748824</td>\n",
       "      <td>3.876134</td>\n",
       "      <td>4.994694</td>\n",
       "      <td>12.604987</td>\n",
       "      <td>6.928789</td>\n",
       "      <td>7.748411</td>\n",
       "    </tr>\n",
       "    <tr>\n",
       "      <th>10</th>\n",
       "      <td>0.774841</td>\n",
       "      <td>0.173415</td>\n",
       "      <td>0.375423</td>\n",
       "      <td>0.716588</td>\n",
       "      <td>0.646022</td>\n",
       "      <td>0.713528</td>\n",
       "      <td>0.630249</td>\n",
       "      <td>0.769865</td>\n",
       "      <td>0.774841</td>\n",
       "      <td>1</td>\n",
       "      <td>6.973570</td>\n",
       "      <td>0.346831</td>\n",
       "      <td>1.126270</td>\n",
       "      <td>10.032236</td>\n",
       "      <td>3.230111</td>\n",
       "      <td>4.281166</td>\n",
       "      <td>11.974738</td>\n",
       "      <td>6.158924</td>\n",
       "      <td>6.973570</td>\n",
       "    </tr>\n",
       "  </tbody>\n",
       "</table>\n",
       "</div>"
      ],
      "text/plain": [
       "    Outflow[A,D]  Outflow[A,E]  Outflow[A,F]  Outflow[B,D]  Outflow[B,E]  \\\n",
       "0       2.000000      6.666667      5.000000      1.333333      3.333333   \n",
       "1       1.800000      4.444445      3.750000      1.244444      2.777778   \n",
       "2       1.620000      2.962963      2.812500      1.161481      2.314815   \n",
       "3       1.458000      1.975309      2.109375      1.084049      1.929012   \n",
       "4       1.312200      1.316872      1.582031      1.011779      1.607510   \n",
       "5       1.180980      0.877915      1.186523      0.944327      1.339592   \n",
       "6       1.062882      0.585277      0.889893      0.881372      1.116326   \n",
       "7       0.956594      0.390184      0.667419      0.822614      0.930272   \n",
       "8       0.860935      0.260123      0.500565      0.767773      0.775227   \n",
       "9       0.774841      0.173415      0.375423      0.716588      0.646022   \n",
       "10      0.774841      0.173415      0.375423      0.716588      0.646022   \n",
       "\n",
       "    Outflow[B,F]  Outflow[C,D]  Outflow[C,E]  Outflow[C,F]  SAVEPER  \\\n",
       "0       2.857143      1.000000      2.222222      2.000000        1   \n",
       "1       2.448980      0.950000      1.975309      1.800000        1   \n",
       "2       2.099125      0.902500      1.755830      1.620000        1   \n",
       "3       1.799250      0.857375      1.560738      1.458000        1   \n",
       "4       1.542214      0.814506      1.387323      1.312200        1   \n",
       "5       1.321898      0.773781      1.233176      1.180980        1   \n",
       "6       1.133055      0.735092      1.096156      1.062882        1   \n",
       "7       0.971190      0.698337      0.974361      0.956594        1   \n",
       "8       0.832449      0.663420      0.866099      0.860935        1   \n",
       "9       0.713528      0.630249      0.769865      0.774841        1   \n",
       "10      0.713528      0.630249      0.769865      0.774841        1   \n",
       "\n",
       "    Stock[A,D]  Stock[A,E]  Stock[A,F]  Stock[B,D]  Stock[B,E]  Stock[B,F]  \\\n",
       "0    20.000000   20.000000   20.000000   20.000000   20.000000   20.000000   \n",
       "1    18.000000   13.333334   15.000000   18.666666   16.666666   17.142857   \n",
       "2    16.200001    8.888889   11.250000   17.422222   13.888888   14.693877   \n",
       "3    14.580001    5.925926    8.437500   16.260740   11.574074   12.594751   \n",
       "4    13.122001    3.950617    6.328125   15.176691    9.645061   10.795501   \n",
       "5    11.809801    2.633745    4.746094   14.164911    8.037551    9.253286   \n",
       "6    10.628821    1.755830    3.559570   13.220584    6.697959    7.931388   \n",
       "7     9.565939    1.170553    2.669678   12.339211    5.581633    6.798333   \n",
       "8     8.609345    0.780369    2.002258   11.516598    4.651361    5.827143   \n",
       "9     7.748411    0.520246    1.501694   10.748824    3.876134    4.994694   \n",
       "10    6.973570    0.346831    1.126270   10.032236    3.230111    4.281166   \n",
       "\n",
       "    Stock[C,D]  Stock[C,E]  Stock[C,F]  \n",
       "0    20.000000   20.000000   20.000000  \n",
       "1    19.000000   17.777779   18.000000  \n",
       "2    18.049999   15.802470   16.200001  \n",
       "3    17.147499   14.046640   14.580001  \n",
       "4    16.290125   12.485903   13.122001  \n",
       "5    15.475618   11.098580   11.809801  \n",
       "6    14.701838    9.865405   10.628821  \n",
       "7    13.966745    8.769249    9.565939  \n",
       "8    13.268408    7.794888    8.609345  \n",
       "9    12.604987    6.928789    7.748411  \n",
       "10   11.974738    6.158924    6.973570  "
      ]
     },
     "execution_count": 26,
     "metadata": {},
     "output_type": "execute_result"
    }
   ],
   "source": [
    "result"
   ]
  }
 ],
 "metadata": {
  "kernelspec": {
   "display_name": "Python 3",
   "language": "python",
   "name": "python3"
  },
  "language_info": {
   "codemirror_mode": {
    "name": "ipython",
    "version": 3
   },
   "file_extension": ".py",
   "mimetype": "text/x-python",
   "name": "python",
   "nbconvert_exporter": "python",
   "pygments_lexer": "ipython3",
   "version": "3.5.1"
  }
 },
 "nbformat": 4,
 "nbformat_minor": 0
}
